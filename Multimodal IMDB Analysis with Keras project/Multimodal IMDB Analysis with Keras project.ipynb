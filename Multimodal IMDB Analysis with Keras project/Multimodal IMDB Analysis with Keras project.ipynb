{
 "cells": [
  {
   "cell_type": "markdown",
   "id": "f67d8b9b",
   "metadata": {},
   "source": [
    "# Multimodal IMDB Analysis with Keras\n",
    "\n",
    "## Introduction\n",
    "\n",
    "We will be analysing this dataset by implementing and training two models: a **CNN** and an **LSTM**.\n",
    "\n",
    "The CNN must classify film posters by the genre. Independently, the LSTM must classify film overviews by the genre. Finally, you will evaluate and critically comment your results in a short report. (Which of the two models was better at classifying films?)\n",
    "\n",
    "## Structure \n",
    "\n",
    "This is broken up into sections and you need to complete each section successively. The sections are the following:\n",
    "\n",
    "1. Data Processing\n",
    "\n",
    "  1.a. Image processing of the posters\n",
    "\n",
    "  1.b. Natural language processing of the overviews\n",
    "\n",
    "2. Definition of the models\n",
    "\n",
    "  2.a. CNN for the posters\n",
    "\n",
    "  2.b. LSTM for the overviews\n",
    "\n",
    "3. Training of the models\n",
    "4. Evaluation of the models"
   ]
  },
  {
   "cell_type": "code",
   "execution_count": null,
   "id": "9a49508a",
   "metadata": {},
   "outputs": [],
   "source": [
    "!pip install matplotlib"
   ]
  },
  {
   "cell_type": "code",
   "execution_count": null,
   "id": "969aff84",
   "metadata": {},
   "outputs": [],
   "source": [
    "!pip install numpy\n"
   ]
  },
  {
   "cell_type": "code",
   "execution_count": null,
   "id": "73be85de",
   "metadata": {},
   "outputs": [],
   "source": [
    "import sys\n",
    "!{sys.executable} -m pip install tensorflow\n"
   ]
  },
  {
   "cell_type": "code",
   "execution_count": 2,
   "id": "df32c327",
   "metadata": {},
   "outputs": [
    {
     "ename": "ModuleNotFoundError",
     "evalue": "No module named 'matplotlib'",
     "output_type": "error",
     "traceback": [
      "\u001b[1;31m---------------------------------------------------------------------------\u001b[0m",
      "\u001b[1;31mModuleNotFoundError\u001b[0m                       Traceback (most recent call last)",
      "Cell \u001b[1;32mIn[2], line 2\u001b[0m\n\u001b[0;32m      1\u001b[0m \u001b[38;5;28;01mimport\u001b[39;00m\u001b[38;5;250m \u001b[39m\u001b[38;5;21;01mnumpy\u001b[39;00m\u001b[38;5;250m \u001b[39m\u001b[38;5;28;01mas\u001b[39;00m\u001b[38;5;250m \u001b[39m\u001b[38;5;21;01mnp\u001b[39;00m\n\u001b[1;32m----> 2\u001b[0m \u001b[38;5;28;01mimport\u001b[39;00m\u001b[38;5;250m \u001b[39m\u001b[38;5;21;01mmatplotlib\u001b[39;00m\u001b[38;5;21;01m.\u001b[39;00m\u001b[38;5;21;01mpyplot\u001b[39;00m\u001b[38;5;250m \u001b[39m\u001b[38;5;28;01mas\u001b[39;00m\u001b[38;5;250m \u001b[39m\u001b[38;5;21;01mplt\u001b[39;00m\n\u001b[0;32m      3\u001b[0m \u001b[38;5;28;01mimport\u001b[39;00m\u001b[38;5;250m \u001b[39m\u001b[38;5;21;01mtensorflow\u001b[39;00m\u001b[38;5;250m \u001b[39m\u001b[38;5;28;01mas\u001b[39;00m\u001b[38;5;250m \u001b[39m\u001b[38;5;21;01mtf\u001b[39;00m\n\u001b[0;32m      4\u001b[0m \u001b[38;5;28;01mfrom\u001b[39;00m\u001b[38;5;250m \u001b[39m\u001b[38;5;21;01mtensorflow\u001b[39;00m\u001b[38;5;250m \u001b[39m\u001b[38;5;28;01mimport\u001b[39;00m keras\n",
      "\u001b[1;31mModuleNotFoundError\u001b[0m: No module named 'matplotlib'"
     ]
    }
   ],
   "source": [
    "import numpy as np\n",
    "import matplotlib.pyplot as plt\n",
    "import tensorflow as tf\n",
    "from tensorflow import keras\n",
    "import os\n",
    "import pathlib\n",
    "import pandas as pd\n",
    "from sklearn import model_selection\n",
    "from tensorflow.keras.models import Model\n",
    "from tensorflow.keras.optimizers import Adam\n",
    "from keras.metrics import Precision, Recall\n",
    "from tensorflow.keras.layers import Input, Conv2D, Dropout, MaxPooling2D, Flatten, Dense\n",
    "from tensorflow.keras.layers import TextVectorization\n",
    "from tensorflow.keras.callbacks import LearningRateScheduler"
   ]
  },
  {
   "cell_type": "code",
   "execution_count": null,
   "id": "c4979aef",
   "metadata": {},
   "outputs": [],
   "source": [
    "from google.colab import drive\n",
    "drive.mount('/content/drive')"
   ]
  },
  {
   "cell_type": "markdown",
   "id": "803c0470",
   "metadata": {},
   "source": [
    "# 1. Data Processing\n",
    "\n",
    "Warning: running the following cell can take some time.\n"
   ]
  },
  {
   "cell_type": "code",
   "execution_count": null,
   "id": "9fd33d40",
   "metadata": {},
   "outputs": [],
   "source": [
    "! mkdir /tmp/Multimodal_IMDB_dataset\n",
    "! rsync -ah --info=progress2 /content/drive/MyDrive/Multimodal_IMDB_dataset/Images /tmp/Multimodal_IMDB_dataset/"
   ]
  },
  {
   "cell_type": "code",
   "execution_count": null,
   "id": "73a834c1",
   "metadata": {},
   "outputs": [],
   "source": [
    "csv_loc = \"/content/drive/MyDrive/Multimodal_IMDB_dataset/IMDB_overview_genres.csv\"\n",
    "dataset = pd.read_csv(csv_loc)\n",
    "\n",
    "# Split the dataset into training and testing\n",
    "data_train, data_test = model_selection.train_test_split(dataset, test_size=0.2)\n",
    "\n",
    "# Convert the labels to arrays\n",
    "labels_train = np.array(data_train.drop(['Id', 'Genre', 'Overview'],axis=1)).astype('float32')\n",
    "labels_test = np.array(data_test.drop(['Id', 'Genre', 'Overview'],axis=1)).astype('float32')\n",
    "\n",
    "# List of the genre names\n",
    "genres = np.array(data_train.drop(['Id', 'Genre', 'Overview'],axis=1).columns)\n",
    "\n",
    "# List of overviews\n",
    "overviews_train = np.array(data_train['Overview'])\n",
    "overviews_test = np.array(data_test['Overview'])\n",
    "\n",
    "# Build the file locations for the images\n",
    "img_loc = \"/tmp/Multimodal_IMDB_dataset/Images\"\n",
    "\n",
    "img_locs_train = np.array([[img_loc + '/' + id + '.jpg' for id in data_train['Id']]])\n",
    "img_locs_test = [[img_loc + '/' + id + '.jpg' for id in data_test['Id']]]\n",
    "\n",
    "# This function is provided to read in the image files from the folder\n",
    "def parse_image(filename, label):\n",
    "  image = tf.io.read_file(filename)\n",
    "  image = tf.io.decode_jpeg(image)\n",
    "  return image, label"
   ]
  },
  {
   "cell_type": "markdown",
   "id": "b562a692",
   "metadata": {},
   "source": [
    "\n",
    "### 1.a. Image processing of the posters"
   ]
  },
  {
   "cell_type": "code",
   "execution_count": null,
   "id": "5faa611c",
   "metadata": {},
   "outputs": [],
   "source": [
    "list_posters_train_ds = tf.data.Dataset.from_tensor_slices((img_locs_train[0], labels_train))\n",
    "list_posters_valid_ds = tf.data.Dataset.from_tensor_slices((img_locs_test[0], labels_test))"
   ]
  },
  {
   "cell_type": "markdown",
   "id": "399f4ab3",
   "metadata": {},
   "source": [
    "* Create a function called ```img_process``` that converts the images to float32 datatype and resizes them to 64x64 pixels"
   ]
  },
  {
   "cell_type": "code",
   "execution_count": null,
   "id": "b91e6f9b",
   "metadata": {},
   "outputs": [],
   "source": [
    "def img_process(image, label):\n",
    "\n",
    "    #Convert image to float32\n",
    "    image = tf.image.convert_image_dtype(image, tf.float32)\n",
    "    #Resize image to 64x64\n",
    "    image = tf.image.resize(image, [64, 64])\n",
    "\n",
    "    return image, label"
   ]
  },
  {
   "cell_type": "markdown",
   "id": "4768eb05",
   "metadata": {},
   "source": [
    "* **Using the ``tf.data`` API, load in the training and validation data for the posters. Be mindful of efficient data processing good practice to minimise the time it takes to load the data.**"
   ]
  },
  {
   "cell_type": "code",
   "execution_count": null,
   "id": "574fb12d",
   "metadata": {},
   "outputs": [],
   "source": [
    "### Use the parse_image and img_process functions to construct the training and\n",
    "### validation datasets. You should utilise good practice in optimising the\n",
    "### dataset loading. Use a batch size of 64.\n",
    "\n",
    "posters_train_ds = tf.data.Dataset.from_tensor_slices((img_locs_train[0], labels_train)) \\\n",
    "    .map(parse_image, num_parallel_calls=tf.data.AUTOTUNE) \\\n",
    "    .map(img_process, num_parallel_calls=tf.data.AUTOTUNE) \\\n",
    "    .cache() \\\n",
    "    .batch(64) \\\n",
    "    .prefetch(tf.data.AUTOTUNE)\n",
    "\n",
    "posters_valid_ds = tf.data.Dataset.from_tensor_slices((img_locs_test[0], labels_test)) \\\n",
    "    .map(parse_image, num_parallel_calls=tf.data.AUTOTUNE) \\\n",
    "    .map(img_process, num_parallel_calls=tf.data.AUTOTUNE) \\\n",
    "    .cache() \\\n",
    "    .batch(64) \\\n",
    "    .prefetch(tf.data.AUTOTUNE)"
   ]
  },
  {
   "cell_type": "markdown",
   "id": "fddfccc0",
   "metadata": {},
   "source": [
    "### 1.b. Natural Language processing of the overviews"
   ]
  },
  {
   "cell_type": "code",
   "execution_count": null,
   "id": "77fd2c01",
   "metadata": {},
   "outputs": [],
   "source": [
    "# Create the initial datasets of the film overviews\n",
    "list_overviews_train_ds = tf.data.Dataset.from_tensor_slices((overviews_train, labels_train))\n",
    "list_overviews_valid_ds = tf.data.Dataset.from_tensor_slices((overviews_test, labels_test))"
   ]
  },
  {
   "cell_type": "markdown",
   "id": "4cbcf29a",
   "metadata": {},
   "source": [
    "* **Using the ``tf.data`` API, load in the training and validation data for the overviews.**"
   ]
  },
  {
   "cell_type": "code",
   "execution_count": null,
   "id": "2d7e8ed4",
   "metadata": {},
   "outputs": [],
   "source": [
    "### Construct the training and validation datasets. Use a batch size of 64.\n",
    "\n",
    "overviews_train_ds = tf.data.Dataset.from_tensor_slices((overviews_train, labels_train)).batch(64).prefetch(tf.data.AUTOTUNE)\n",
    "\n",
    "overviews_valid_ds = tf.data.Dataset.from_tensor_slices((overviews_test, labels_test)).batch(64).prefetch(tf.data.AUTOTUNE)"
   ]
  },
  {
   "cell_type": "markdown",
   "id": "2daab67c",
   "metadata": {},
   "source": [
    "* Build the vocabulary of the model by calling the ``encoder.adapt()`` method on the film overviews train data."
   ]
  },
  {
   "cell_type": "code",
   "execution_count": null,
   "id": "a24d1acf",
   "metadata": {},
   "outputs": [],
   "source": [
    "### Build the vocabulary of the model by calling the encoder.adapt() method on\n",
    "### the film overviews train data.\n",
    "\n",
    "VOCAB_SIZE = 10000\n",
    "\n",
    "\n",
    "encoder = TextVectorization(max_tokens=VOCAB_SIZE, output_mode='int')\n",
    "\n",
    "encoder.adapt(overviews_train_ds.map(lambda text, label: text))"
   ]
  },
  {
   "cell_type": "markdown",
   "id": "d049c7e8",
   "metadata": {},
   "source": [
    "* Print the first 200 words of the vocabulary you obtained."
   ]
  },
  {
   "cell_type": "code",
   "execution_count": null,
   "id": "f02dbc9e",
   "metadata": {},
   "outputs": [],
   "source": [
    "### Print the first 200 words of the vocabulary you obtained.\n",
    "\n",
    "print(encoder.get_vocabulary()[:200])"
   ]
  },
  {
   "cell_type": "markdown",
   "id": "56777f0b",
   "metadata": {},
   "source": [
    "# 2. Definition of the models\n",
    "\n",
    "### 2.a. CNN\n",
    "\n",
    "**Using the Keras Functional API, create a convolutional neural network with the architecture shown in the model summary below.**\n",
    "\n",
    "**A few important points to consider:**\n",
    "\n",
    "* Call the convolutional layers and the first dense layer should have ReLU activation functions. The output layer should have a Sigmoid activation function.\n",
    "* Pay attention to the output shapes and the number of partmeters for each layer, as these give indications as to the correct settings for the number of filters, kernel size, stride length and padding.\n",
    "* Use the layer names provided in the summary in your model.\n",
    "* For the dropout layers, use a dropout rate of 0.2 after the convolutional layers and 0.5 after the dense layers."
   ]
  },
  {
   "cell_type": "code",
   "execution_count": null,
   "id": "d16918f4",
   "metadata": {},
   "outputs": [],
   "source": [
    "### Define the model using the Keras Functional API. Use the summary above as a\n",
    "### guide for the model parameters. You will need to define the filters/units of\n",
    "### the layers correctly, as well as the kernel size, stride length and padding\n",
    "### of the convolutional layers.\n",
    "\n",
    "def build_cnn_model():\n",
    "    input_layer = Input(shape=(64, 64, 3), name=\"Input\")  # First line!\n",
    "\n",
    "    x = Conv2D(16, (3, 3), activation='relu', padding='same', name=\"Conv0\")(input_layer)\n",
    "    x = Dropout(0.2, name=\"Drop1\")(x)\n",
    "    x = Conv2D(32, (3, 3), activation='relu', padding='same', name=\"Conv1\")(x)\n",
    "    x = Conv2D(32, (3, 3), activation='relu', padding='same', name=\"Conv2\")(x)\n",
    "    x = Dropout(0.2, name=\"Drop2\")(x)\n",
    "    x = MaxPooling2D(pool_size=(2, 2), name=\"Pool1\")(x)\n",
    "\n",
    "    x = Conv2D(64, (3, 3), activation='relu', padding='same', name=\"Conv3\")(x)\n",
    "    x = Conv2D(64, (3, 3), activation='relu', padding='same', name=\"Conv4\")(x)\n",
    "    x = Dropout(0.2, name=\"Drop3\")(x)\n",
    "    x = MaxPooling2D(pool_size=(2, 2), name=\"Pool2\")(x)\n",
    "\n",
    "    x = Conv2D(128, (3, 3), activation='relu', padding='same', name=\"Conv5\")(x)\n",
    "    x = Conv2D(128, (3, 3), activation='relu', padding='same', name=\"Conv6\")(x)\n",
    "    x = Dropout(0.2, name=\"Drop4\")(x)\n",
    "    x = MaxPooling2D(pool_size=(2, 2), name=\"Pool3\")(x)\n",
    "\n",
    "    x = Flatten(name=\"Flat\")(x)\n",
    "    x = Dense(1024, activation='relu', name=\"FC1\")(x)\n",
    "    x = Dropout(0.5, name=\"Drop5\")(x)\n",
    "    x = Dense(1024, activation='relu', name=\"FC2\")(x)\n",
    "    x = Dropout(0.5, name=\"Drop6\")(x)\n",
    "    output_layer = Dense(25, activation='sigmoid', name=\"Output\")(x)\n",
    "\n",
    "    model = Model(inputs=input_layer, outputs=output_layer)\n",
    "\n",
    "    return model\n",
    "\n",
    "cnn_model = build_cnn_model()"
   ]
  },
  {
   "cell_type": "markdown",
   "id": "31b8ea90",
   "metadata": {},
   "source": [
    "* Print the model summary and confirm it has the same architecture as the one provided."
   ]
  },
  {
   "cell_type": "code",
   "execution_count": null,
   "id": "59a5ce0c",
   "metadata": {},
   "outputs": [],
   "source": [
    "### Print the model summary and confirm it has the same architecture as the one\n",
    "### provided.\n",
    "\n",
    "cnn_model.summary()"
   ]
  },
  {
   "cell_type": "markdown",
   "id": "d9f6c16d",
   "metadata": {},
   "source": [
    "* **Compile the model using the Adam Optimizer with a learning rate of ```1e-4``` and ```binary crossentropy``` loss function. For the metrics, use the ``Precision`` and ``Recall`` functions.**"
   ]
  },
  {
   "cell_type": "code",
   "execution_count": null,
   "id": "23a2e8b6",
   "metadata": {},
   "outputs": [],
   "source": [
    "### Compile the model using the Adam Optimizer with a learning rate of 1e-4 and\n",
    "### binary crossentropy loss function. For the metrics, use the Precision and\n",
    "### Recall functions.\n",
    "\n",
    "cnn_model.compile(\n",
    "    #Complete here\n",
    "    optimizer=tf.keras.optimizers.Adam(learning_rate=1e-4),\n",
    "    loss='binary_crossentropy',\n",
    "    metrics=['Precision', 'Recall']\n",
    "    )"
   ]
  },
  {
   "cell_type": "markdown",
   "id": "71728928",
   "metadata": {},
   "source": [
    "### 2.b. LSTM model\n",
    "\n",
    "* Set up the embedding layer by using ```tf.keras.layers.Embedding```. The ```input_dim``` is the length of the vocab, and the ```output_dim``` must be **265**. You should also set ```mask_zero=True```."
   ]
  },
  {
   "cell_type": "code",
   "execution_count": null,
   "id": "473e8478",
   "metadata": {},
   "outputs": [],
   "source": [
    "### Set up the embedding layer. The input_dim is the length of the vocab, and\n",
    "### the output_dim must be 256. You should also set mask_zero=True.\n",
    "\n",
    "embedder = tf.keras.layers.Embedding(input_dim=len(encoder.get_vocabulary()), output_dim=256, mask_zero=True)"
   ]
  },
  {
   "cell_type": "markdown",
   "id": "d70fbd6c",
   "metadata": {},
   "source": [
    "* Use ```tf.keras.Sequential``` to build a keras sequential model, with the following layers:\n",
    "\n",
    "\n",
    "\n",
    "  1.   encoder\n",
    "  2.   embedder\n",
    "  3.   biLSTM layer with 256 units, dropout 0.5, recurrent dropout 0.2 (make sure to use the right ```return_sequences``` parametre to be able to stack this layer with the following BiLSTM)\n",
    "  4.   biLSTM layer with 128 units, dropout 0.5, recurrent dropout 0.2\n",
    "  5.   dense layer with 128 units and relu activation function\n",
    "  6.   dropout with rate 0.8\n",
    "  7.   dense output layer with 25 units and sigmoid activation function\n",
    "\n"
   ]
  },
  {
   "cell_type": "code",
   "execution_count": null,
   "id": "1fe90e3b",
   "metadata": {},
   "outputs": [],
   "source": [
    "### Build a keras sequential model, with the layers provided above.\n",
    "\n",
    "lstm_model = tf.keras.Sequential([\n",
    "    encoder,\n",
    "    embedder,\n",
    "    tf.keras.layers.Bidirectional(tf.keras.layers.LSTM(256, dropout=0.5, recurrent_dropout=0.2, return_sequences=True)),\n",
    "    tf.keras.layers.Bidirectional(tf.keras.layers.LSTM(128, dropout=0.5, recurrent_dropout=0.2)),\n",
    "    tf.keras.layers.Dense(128, activation='relu'),\n",
    "    tf.keras.layers.Dropout(0.8),\n",
    "    tf.keras.layers.Dense(25, activation='sigmoid')\n",
    "])\n",
    "\n",
    "lstm_model.build((None,))"
   ]
  },
  {
   "cell_type": "markdown",
   "id": "87f42f49",
   "metadata": {},
   "source": [
    "* Print the model summary and confirm is has the same architecture as the outline provided above."
   ]
  },
  {
   "cell_type": "code",
   "execution_count": null,
   "id": "dd5b8cda",
   "metadata": {},
   "outputs": [],
   "source": [
    "### Print the model summary and confirm is has the same architecture as the\n",
    "### outline provided above.\n",
    "\n",
    "lstm_model.summary()"
   ]
  },
  {
   "cell_type": "markdown",
   "id": "c88796ac",
   "metadata": {},
   "source": [
    "* Compile the model with binary crossentropy loss and the adam optimizer. For the metrics, use the Precision and Recall functions."
   ]
  },
  {
   "cell_type": "code",
   "execution_count": null,
   "id": "03b69557",
   "metadata": {},
   "outputs": [],
   "source": [
    "### Compile the model with binary crossentropy loss, the adam optimizer, with\n",
    "### the precision and recall metrics\n",
    "\n",
    "lstm_model.compile(\n",
    "    #Complete here\n",
    "    optimizer=tf.keras.optimizers.Adam(learning_rate=1e-4),\n",
    "    loss='binary_crossentropy',\n",
    "    metrics=[Precision(), Recall()]\n",
    "    )"
   ]
  },
  {
   "cell_type": "markdown",
   "id": "34f71d33",
   "metadata": {},
   "source": [
    "# 3. Training of the models\n",
    "\n",
    "* **For each model, create a Checkpoint Callback that saves the weights of the best performing epoch, based on the validation loss.**"
   ]
  },
  {
   "cell_type": "code",
   "execution_count": null,
   "id": "52a9a6a4",
   "metadata": {},
   "outputs": [],
   "source": [
    "### Create two ModelCheckpoint callbacks to store the bext weights from each\n",
    "### model, both based on the validation loss.\n",
    "\n",
    "checkpoint_cnn_filepath = '/content/checkpoint_cnn.weights.h5'\n",
    "checkpoint_lstm_filepath = '/content/checkpoint_lstm.weights.h5'\n",
    "\n",
    "from tensorflow.keras.callbacks import ModelCheckpoint\n",
    "\n",
    "checkpoint_cnn_callback = ModelCheckpoint(\n",
    "    filepath=checkpoint_cnn_filepath,\n",
    "    save_best_only=True,\n",
    "    monitor='val_loss',\n",
    "    mode='min',\n",
    "    save_weights_only=True\n",
    ")\n",
    "\n",
    "checkpoint_lstm_callback = ModelCheckpoint(\n",
    "    filepath=checkpoint_lstm_filepath,\n",
    "    save_best_only=True,\n",
    "    monitor='val_loss',\n",
    "    mode='min',\n",
    "    save_weights_only=True\n",
    ")"
   ]
  },
  {
   "cell_type": "markdown",
   "id": "9150bc02",
   "metadata": {},
   "source": [
    "* **Create a Learning Rate Scheduler Callback that utilises the provided function to decrease the learning rate during training.**"
   ]
  },
  {
   "cell_type": "code",
   "execution_count": null,
   "id": "80eb9a2a",
   "metadata": {},
   "outputs": [],
   "source": [
    "### Using the function provided, create a LearningRateScheduler callback, call\n",
    "### it \"lr_callback\"\n",
    "\n",
    "def scheduler(epoch, lr):\n",
    "    if epoch < 10:\n",
    "        return float(lr)\n",
    "    else:\n",
    "        return float(lr * tf.math.exp(-0.01))\n",
    "\n",
    "lr_callback = LearningRateScheduler(scheduler)\n"
   ]
  },
  {
   "cell_type": "markdown",
   "id": "33e36cec",
   "metadata": {},
   "source": [
    "### 3.a. CNN training\n",
    "\n",
    "* **Train the CNN model for 40 epochs, using the callbacks you made previously. Store the losses and metrics to use later.**"
   ]
  },
  {
   "cell_type": "code",
   "execution_count": null,
   "id": "4fb4185b",
   "metadata": {},
   "outputs": [],
   "source": [
    "### Train the model for 40 epochs, using the callbacks you have created. Store\n",
    "### the losses and metrics in a history object.\n",
    "\n",
    "cnn_history = cnn_model.fit(\n",
    "    #Complete here\n",
    "    posters_train_ds,\n",
    "    validation_data=posters_valid_ds,\n",
    "    epochs=40,\n",
    "    callbacks=[checkpoint_cnn_callback, lr_callback]\n",
    "    )"
   ]
  },
  {
   "cell_type": "markdown",
   "id": "35b22c0e",
   "metadata": {},
   "source": [
    "* **Train the model for 20 epochs** (this may take several minutes)**, using the callbacks you made previously. Store the losses and metrics to use later.**"
   ]
  },
  {
   "cell_type": "code",
   "execution_count": null,
   "id": "56881acb",
   "metadata": {},
   "outputs": [],
   "source": [
    "# Train the model for 20 epochs.\n",
    "lstm_history = lstm_model.fit(\n",
    "                    #Complete here\n",
    "                    overviews_train_ds,\n",
    "                    validation_data=overviews_valid_ds,\n",
    "                    epochs=20,\n",
    "                    callbacks=[checkpoint_lstm_callback, lr_callback]\n",
    "                    )"
   ]
  },
  {
   "cell_type": "markdown",
   "id": "0fe0bf12",
   "metadata": {},
   "source": [
    "# 4. Evaluation of the models\n",
    "\n",
    "### 4.a. CNN Evaluation\n",
    "\n",
    "* **Create plots using the losses and metrics. In your report, discuss these results and critically evaluate the model performance.**"
   ]
  },
  {
   "cell_type": "code",
   "execution_count": null,
   "id": "bb7dfca8",
   "metadata": {},
   "outputs": [],
   "source": [
    "# Plot Loss\n",
    "plt.figure(figsize=(10, 5))\n",
    "plt.plot(cnn_history.history['loss'], label='Training Loss')\n",
    "plt.plot(cnn_history.history['val_loss'], label='Validation Loss')\n",
    "plt.title('CNN Model Loss')\n",
    "plt.xlabel('Epochs')\n",
    "plt.ylabel('Loss')\n",
    "plt.legend()\n",
    "plt.show()\n",
    "\n",
    "# Plot Precision\n",
    "plt.figure(figsize=(10, 5))\n",
    "plt.plot(cnn_history.history['precision'], label='Training Precision')\n",
    "plt.plot(cnn_history.history['val_precision'], label='Validation Precision')\n",
    "plt.title('CNN Model Precision')\n",
    "plt.xlabel('Epochs')\n",
    "plt.ylabel('Precision')\n",
    "plt.legend()\n",
    "plt.show()\n",
    "\n",
    "# Plot Recall\n",
    "plt.figure(figsize=(10, 5))\n",
    "plt.plot(cnn_history.history['recall'], label='Training Recall')\n",
    "plt.plot(cnn_history.history['val_recall'], label='Validation Recall')\n",
    "plt.title('CNN Model Recall')\n",
    "plt.xlabel('Epochs')\n",
    "plt.ylabel('Recall')\n",
    "plt.legend()\n",
    "plt.show()"
   ]
  },
  {
   "cell_type": "markdown",
   "id": "0641140d",
   "metadata": {},
   "source": [
    "* **Load the best weights from your model checkpoint, and create plots demonstrating the classification performance for all three classes. Include these plots in your report, and critically evaluate on the performance of the model across the classes.**"
   ]
  },
  {
   "cell_type": "markdown",
   "id": "7b2236af",
   "metadata": {},
   "source": [
    "### 4.b. LSTM Evaluation\n",
    "\n",
    "* **Create plots using the losses and metrics. In your report, discuss these results and critically evaluate the model performance.**"
   ]
  },
  {
   "cell_type": "markdown",
   "id": "f4543055",
   "metadata": {},
   "source": [
    "plt.figure(figsize=(10, 5))\n",
    "plt.plot(lstm_history.history['loss'], label='Training Loss')\n",
    "plt.plot(lstm_history.history['val_loss'], label='Validation Loss')\n",
    "plt.title('LSTM Model Loss')\n",
    "plt.xlabel('Epochs')\n",
    "plt.ylabel('Loss')\n",
    "plt.legend()\n",
    "plt.show()\n",
    "\n",
    "# Plot Precision\n",
    "plt.figure(figsize=(10, 5))\n",
    "plt.plot(lstm_history.history['precision_1'], label='Training Precision')\n",
    "plt.plot(lstm_history.history['val_precision_1'], label='Validation Precision')\n",
    "plt.title('LSTM Model Precision')\n",
    "plt.xlabel('Epochs')\n",
    "plt.ylabel('Precision')\n",
    "plt.legend()\n",
    "plt.show()\n",
    "\n",
    "# Plot Recall\n",
    "plt.figure(figsize=(10, 5))\n",
    "plt.plot(lstm_history.history['recall_1'], label='Training Recall')\n",
    "plt.plot(lstm_history.history['val_recall_1'], label='Validation Recall')\n",
    "plt.title('LSTM Model Recall')\n",
    "plt.xlabel('Epochs')\n",
    "plt.ylabel('Recall')\n",
    "plt.legend()\n",
    "plt.show()"
   ]
  },
  {
   "cell_type": "markdown",
   "id": "38f1062b",
   "metadata": {},
   "source": [
    "### 4.c. Produce examples for the report\n",
    "\n",
    "* First, load the best weights from your checkpoints of both your models.\n",
    "\n",
    "* Choose a few films from the dataset, plot their posters and print their overviews. Use these example films to demonstrate the classification performance of the CNN model on their posters and of the LSTM model on their overview.\n",
    "\n",
    "* Be sure to demonstrate the results of the multi-label classification. Compare, for each example film, the top three most probable genres predicted by the CNN and the top three most probable genres predicted by the LSTM with the ground truth genres.\n",
    "\n",
    "* Include these examples in your report, and critically evaluate on the performance of the model across the classes."
   ]
  },
  {
   "cell_type": "code",
   "execution_count": null,
   "id": "995def89",
   "metadata": {},
   "outputs": [],
   "source": [
    "# Load the best model weights\n",
    "cnn_model.load_weights('/content/checkpoint_cnn.weights.h5')\n",
    "lstm_model.load_weights('/content/checkpoint_lstm.weights.h5')\n",
    "\n",
    "# Pick random samples safely\n",
    "import random\n",
    "sample_indices = random.sample(range(len(img_locs_test[0])), min(5, len(img_locs_test[0])))\n",
    "\n",
    "# Loop through each sample\n",
    "for i, idx in enumerate(sample_indices):\n",
    "    # Poster prediction\n",
    "    img_path = img_locs_test[0][idx]\n",
    "    img = tf.io.decode_jpeg(tf.io.read_file(img_path))\n",
    "    resized_img = tf.image.resize(img, (64, 64))\n",
    "    resized_img = tf.expand_dims(resized_img, axis=0)\n",
    "    cnn_pred = cnn_model.predict(resized_img)\n",
    "\n",
    "    # Overview prediction\n",
    "    overview_text = overviews_test[idx]    # just get the overview\n",
    "    lstm_pred = lstm_model.predict(tf.constant([overview_text]))  # directly pass string\n",
    "\n",
    "    # Display Poster\n",
    "    plt.imshow(img)\n",
    "    plt.axis('off')\n",
    "    plt.title(f\"Poster of Example {i+1}\")\n",
    "    plt.show()\n",
    "\n",
    "    # Print overview text\n",
    "    print(f\"Overview Text {i+1}:\", overview_text)\n",
    "    \n",
    "    # Ground truth genres\n",
    "    actual_genres = np.where(labels_test[idx] == 1)[0]\n",
    "    print(\"Actual Genres:\", [genres[i] for i in actual_genres])\n",
    "\n",
    "    # Top 3 CNN predictions\n",
    "    top_cnn = np.argsort(cnn_pred[0])[-3:][::-1]\n",
    "    print(\"Top 3 CNN Predicted Genres:\", [genres[i] for i in top_cnn])\n",
    "\n",
    "    # Top 3 LSTM predictions\n",
    "    top_lstm = np.argsort(lstm_pred[0])[-3:][::-1]\n",
    "    print(\"Top 3 LSTM Predicted Genres:\", [genres[i] for i in top_lstm])\n",
    "\n",
    "    print(\"-\" * 80)\n"
   ]
  }
 ],
 "metadata": {
  "kernelspec": {
   "display_name": "Python 3",
   "language": "python",
   "name": "python3"
  },
  "language_info": {
   "codemirror_mode": {
    "name": "ipython",
    "version": 3
   },
   "file_extension": ".py",
   "mimetype": "text/x-python",
   "name": "python",
   "nbconvert_exporter": "python",
   "pygments_lexer": "ipython3",
   "version": "3.9.11"
  }
 },
 "nbformat": 4,
 "nbformat_minor": 5
}
